{
 "cells": [
  {
   "cell_type": "code",
   "execution_count": 2,
   "metadata": {},
   "outputs": [
    {
     "name": "stderr",
     "output_type": "stream",
     "text": [
      "<ipython-input-2-58ffda9988a5>:41: DeprecationWarning: isAlive() is deprecated, use is_alive() instead\n",
      "  while thread.isAlive():\n"
     ]
    }
   ],
   "source": [
    "from speedtest import Speedtest\n",
    "from tkinter.ttk import *\n",
    "from tkinter import *\n",
    "import threading\n",
    "\n",
    "\n",
    "root = Tk()\n",
    "root.title(\"Internet Speed Tracker\")\n",
    "root.geometry('380x220')\n",
    "root.resizable(False, False)\n",
    "root.configure(bg=\"#FFE873\")\n",
    "root.iconbitmap('speed.ico')\n",
    "\n",
    "# design Label\n",
    "Label(root, text ='INTERNET SPEED', bg='#FFE873', fg='#4B8BBE', font = 'arial 25 bold').pack()\n",
    "Label(root, text ='@_python.py_', bg='#FFE873', fg='#4B8BBE', font = 'arial 15 bold').pack(side =BOTTOM)\n",
    "\n",
    "# making label for show internet speed\n",
    "down_label = Label(root, text=\"Download Speed - \", bg='#FFE873', font = 'arial 10 bold')\n",
    "down_label.place(x = 90, y= 50)\n",
    "up_label = Label(root, text=\"Upload Speed - \", bg='#FFE873', font = 'arial 10 bold')\n",
    "up_label.place(x = 90, y= 80)\n",
    "\n",
    "# function for check spped\n",
    "def check_speed():\n",
    "    global download_speed, upload_speed\n",
    "    speed_test=Speedtest()\n",
    "    download=speed_test.download()\n",
    "    upload=speed_test.upload()\n",
    "    download_speed=round(download / (10 ** 6), 2)\n",
    "    upload_speed=round(upload / (10 ** 6), 2)\n",
    "\n",
    "# function for progress bar and update text\n",
    "def update_text():\n",
    "    thread=threading.Thread(target=check_speed, args=())\n",
    "    thread.start()\n",
    "    progress=Progressbar(root, orient=HORIZONTAL,\n",
    "                         length=210, mode='indeterminate')\n",
    "    progress.place(x = 85, y = 110)\n",
    "    progress.start()\n",
    "    while thread.isAlive():\n",
    "        root.update()\n",
    "        pass\n",
    "    down_label.config(text=\"Download Speed - \"+str(download_speed)+\"Mbps\")\n",
    "    up_label.config(text=\"Upload Speed - \"+str(upload_speed)+\"Mbps\")\n",
    "\n",
    "    progress.stop()\n",
    "    progress.destroy()\n",
    "\n",
    "# button for call to function\n",
    "button = Button(root, text=\"Check Speed\", width=30, bd = 0, bg = 'light blue', pady = 5, command=update_text)\n",
    "button.place(x=85, y = 140)\n",
    "root.mainloop()"
   ]
  },
  {
   "cell_type": "code",
   "execution_count": null,
   "metadata": {},
   "outputs": [],
   "source": []
  }
 ],
 "metadata": {
  "kernelspec": {
   "display_name": "Python 3",
   "language": "python",
   "name": "python3"
  },
  "language_info": {
   "codemirror_mode": {
    "name": "ipython",
    "version": 3
   },
   "file_extension": ".py",
   "mimetype": "text/x-python",
   "name": "python",
   "nbconvert_exporter": "python",
   "pygments_lexer": "ipython3",
   "version": "3.8.5"
  }
 },
 "nbformat": 4,
 "nbformat_minor": 4
}
